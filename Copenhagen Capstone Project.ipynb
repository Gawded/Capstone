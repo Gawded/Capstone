{
 "cells": [
  {
   "cell_type": "markdown",
   "metadata": {},
   "source": [
    "## 1. Introduction"
   ]
  },
  {
   "cell_type": "markdown",
   "metadata": {},
   "source": [
    "Copenhagen is the capital as well as the most populous city of Denmark. As of januar 1st 2020 the city had a population of 794,128 spanning 179,8 km<sup>2</sup>, giving a population density of 4,417/km<sup>2</sup>. Copenhagen is a sprawling metropolis with a large number of venues for entertainment / enjoyment.\n",
    "\n",
    "Copenhagen can be divided into a number of boroughs. From an investment point of view, if you would like to open a shop / venue, you are of course interested in the price of real estate, as well as the saturation of venues in the area. An investor might look for a cheap location that is not overly saturated by similar venues. From a residential point of view you are again looking for a cheap location, but a large number of venues is now a positive. From this it can be said that the target audience includes both potential real estate investors, as well as private people looking for a residential property. \n",
    "\n",
    "Based on this, it becomes interesting to examine where you get the most bang for your buck - i.e. where an investor can get the cheapest real estate in an area not already saturated by other venues, and where a potential resident can minimize the cost of real estate while maximizing the number of nearby venues. \n",
    "\n",
    "Considering the above problems, it is possible to create a map with information on venue density and real estate price. From this it will be possible to extrapolate where you get the lowest real estate prices combined with the lowest / highest density of venues."
   ]
  },
  {
   "cell_type": "markdown",
   "metadata": {},
   "source": [
    "## 2. Data"
   ]
  },
  {
   "cell_type": "markdown",
   "metadata": {},
   "source": [
    "To solve the above problem, two data sets are needed, firstly information on real estate prices for each borough / district is needed, secondly information on venues is needed.\n",
    "\n",
    "I have below listed how the needed data has been obtained:\n",
    "\n",
    "<ul>\n",
    "    <li><b>Real Estate Prices</b> - Finans Danmark releases quarterly information on the average price per square meter for each borough in copenhagen. This dataset is publicly  available on their webpage, ref.: <a href=\"https://rkr.statistikbank.dk/statbank5a/SelectVarVal/Define.asp?MainTable=BM011\">www.rkr.statisbank.dk</a>. I have limited my selection to \"Ejerlejlighed\" (apartments) and Q3 2020 data. However, in order to later use this data in combination with a map, latitude and longitude is needed for each of the boroughs, this was obtained from Google and merged with the dataset from Finans Danmark. </li>\n",
    "    <li><b>Venue data set</b> - the Foursquare API will be used to obtain the most popular / most common venues for a given borough in Copenhagen</li>\n",
    "  \n",
    "</ul>\n",
    "\n",
    "Through a combination of the data set of real estate prices (containing features on average pricing per square meter for each borough as well as latitude and longitude information for the boroughs), and the foursquare API, i will analyze the venues accross the boroughs of copenhagen, and finally visualize the combination of pricing and venues, in order to guide both investors looking for retail property and private people looking for a residential property\n"
   ]
  },
  {
   "cell_type": "code",
   "execution_count": null,
   "metadata": {},
   "outputs": [],
   "source": []
  },
  {
   "cell_type": "code",
   "execution_count": null,
   "metadata": {},
   "outputs": [],
   "source": []
  }
 ],
 "metadata": {
  "kernelspec": {
   "display_name": "Python 3",
   "language": "python",
   "name": "python3"
  },
  "language_info": {
   "codemirror_mode": {
    "name": "ipython",
    "version": 3
   },
   "file_extension": ".py",
   "mimetype": "text/x-python",
   "name": "python",
   "nbconvert_exporter": "python",
   "pygments_lexer": "ipython3",
   "version": "3.8.5"
  }
 },
 "nbformat": 4,
 "nbformat_minor": 4
}
